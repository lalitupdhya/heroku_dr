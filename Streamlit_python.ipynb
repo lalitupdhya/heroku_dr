{
 "cells": [
  {
   "cell_type": "code",
   "execution_count": 1,
   "metadata": {},
   "outputs": [],
   "source": [
    "import streamlit as st\n",
    "import cv2\n",
    "import numpy as np\n",
    "from PIL import Image\n",
    "from tensorflow.keras.models import load_model"
   ]
  },
  {
   "cell_type": "code",
   "execution_count": 2,
   "metadata": {},
   "outputs": [],
   "source": [
    "model = load_model('diab_retin_1.4.h5')"
   ]
  },
  {
   "cell_type": "code",
   "execution_count": 3,
   "metadata": {},
   "outputs": [],
   "source": [
    "about = 'Diabetic retinopathy is caused by damage to the blood vessels in the tissue at the back of the eye (retina).\\\n",
    "        Poorly controlled blood sugar is a risk factor.Early symptoms include floaters, blurriness, dark areas of vision and\\\n",
    "        difficulty perceiving colours. Blindness can occur. Mild cases may be treated with careful diabetes management.\\\n",
    "        Advanced cases may require laser treatment or surgery. Diagnosis of this disease can be done with the fundus image of an eye.'"
   ]
  },
  {
   "cell_type": "code",
   "execution_count": 4,
   "metadata": {},
   "outputs": [],
   "source": [
    "sd = st.sidebar.radio('NAVIGATION',['Home','Prediction'])"
   ]
  },
  {
   "cell_type": "code",
   "execution_count": 5,
   "metadata": {},
   "outputs": [],
   "source": [
    "if sd=='Prediction':\n",
    "    st.title('Diabetic Retinopathy Detection.')\n",
    "    uploaded_image=st.file_uploader('Upload the fundus image of the eye.')\n",
    "    if uploaded_image:\n",
    "        file_bytes = np.asarray(bytearray(uploaded_image.read()), dtype=np.uint8)\n",
    "        opencv_image = cv2.imdecode(file_bytes,cv2.IMREAD_COLOR)\n",
    "        image=cv2.resize(opencv_image,(224,224))\n",
    "        st.write('The fundus image.')\n",
    "        disp=Image.fromarray(image)\n",
    "        RGB_img = cv2.cvtColor(image, cv2.COLOR_BGR2RGB)\n",
    "        st.image(RGB_img)\n",
    "\n",
    "        image=np.array(image).reshape(-1,224,224,3)\n",
    "\n",
    "        CATEGORIES = ['No_Diabetic Retinopathy','Mild_Diabetic Retinopathy','Moderate_Diabetic Retinopathy',\n",
    "                      'Severe_Diabetic Retinopathy','Proliferate_Diabetic Retinopathy']\n",
    "        prediction=CATEGORIES[np.argmax(model.predict(image))]\n",
    "        st.write('The above image has',prediction)\n",
    "else:\n",
    "    st.header('About Diabetic Retinopathy')\n",
    "    st.write(about)\n",
    "    st.write('In this application we can detect 5 levels of the disease ranging from NO_DR to Proliferate_DR. In between\\\n",
    "                we have Mild, Moderate and Severe.')\n",
    "    st.subheader('Fundus Image of an eye')\n",
    "    st.image('NOR1.jpg')"
   ]
  },
  {
   "cell_type": "code",
   "execution_count": null,
   "metadata": {},
   "outputs": [],
   "source": []
  }
 ],
 "metadata": {
  "kernelspec": {
   "display_name": "Python 3",
   "language": "python",
   "name": "python3"
  },
  "language_info": {
   "codemirror_mode": {
    "name": "ipython",
    "version": 3
   },
   "file_extension": ".py",
   "mimetype": "text/x-python",
   "name": "python",
   "nbconvert_exporter": "python",
   "pygments_lexer": "ipython3",
   "version": "3.8.6"
  }
 },
 "nbformat": 4,
 "nbformat_minor": 4
}
