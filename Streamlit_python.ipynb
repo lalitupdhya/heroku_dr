{
 "cells": [
  {
   "cell_type": "code",
   "execution_count": 52,
   "metadata": {},
   "outputs": [],
   "source": [
    "import streamlit as st\n",
    "import cv2\n",
    "import numpy as np\n",
    "from PIL import Image\n",
    "from tensorflow.keras.models import load_model"
   ]
  },
  {
   "cell_type": "code",
   "execution_count": 53,
   "metadata": {},
   "outputs": [],
   "source": [
    "model = load_model('diab_retin.h5')"
   ]
  },
  {
   "cell_type": "code",
   "execution_count": 54,
   "metadata": {},
   "outputs": [],
   "source": [
    "st.title('Diabetic Retinopathy Detection.')\n",
    "uploaded_image=st.file_uploader('Upload the fundus image of the eye.')\n",
    "if uploaded_image:\n",
    "    file_bytes = np.asarray(bytearray(uploaded_image.read()), dtype=np.uint8)\n",
    "    opencv_image = cv2.imdecode(file_bytes,cv2.IMREAD_COLOR)\n",
    "    image=cv2.resize(opencv_image,(224,224))\n",
    "    st.write('The fundus image.')\n",
    "    disp=Image.fromarray(image)\n",
    "    RGB_img = cv2.cvtColor(image, cv2.COLOR_BGR2RGB)\n",
    "    st.image(RGB_img)\n",
    "    \n",
    "    image=np.array(image).reshape(-1,224,224,3)\n",
    "    \n",
    "    CATEGORIES = ['No_Diabetic Retinopathy','Mild_Diabetic Retinopathy','Moderate_Diabetic Retinopathy',\n",
    "                  'Severe_Diabetic Retinopathy','Proliferate_Diabetic Retinopathy']\n",
    "    prediction=CATEGORIES[np.argmax(model.predict(image))]\n",
    "    st.write('The above image has',prediction)"
   ]
  },
  {
   "cell_type": "code",
   "execution_count": null,
   "metadata": {},
   "outputs": [],
   "source": []
  }
 ],
 "metadata": {
  "kernelspec": {
   "display_name": "Python 3",
   "language": "python",
   "name": "python3"
  },
  "language_info": {
   "codemirror_mode": {
    "name": "ipython",
    "version": 3
   },
   "file_extension": ".py",
   "mimetype": "text/x-python",
   "name": "python",
   "nbconvert_exporter": "python",
   "pygments_lexer": "ipython3",
   "version": "3.8.6"
  }
 },
 "nbformat": 4,
 "nbformat_minor": 4
}
