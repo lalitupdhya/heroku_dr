{
 "cells": [
  {
   "cell_type": "markdown",
   "metadata": {},
   "source": [
    "## Traing the model for Diabetic Retinopathy Detection"
   ]
  },
  {
   "cell_type": "markdown",
   "metadata": {},
   "source": [
    "### Mounting the google drive"
   ]
  },
  {
   "cell_type": "code",
   "execution_count": 1,
   "metadata": {
    "colab": {
     "base_uri": "https://localhost:8080/"
    },
    "executionInfo": {
     "elapsed": 28500,
     "status": "ok",
     "timestamp": 1608736917510,
     "user": {
      "displayName": "2020 18007",
      "photoUrl": "",
      "userId": "03061026696140247928"
     },
     "user_tz": -330
    },
    "id": "F-A5zMYwjIyI",
    "outputId": "0af2457d-37de-4ee3-cef1-449e917d774d"
   },
   "outputs": [
    {
     "name": "stdout",
     "output_type": "stream",
     "text": [
      "Mounted at /content/gdrive\n"
     ]
    }
   ],
   "source": [
    "from google.colab import drive\n",
    "drive.mount('/content/gdrive')"
   ]
  },
  {
   "cell_type": "code",
   "execution_count": 8,
   "metadata": {
    "executionInfo": {
     "elapsed": 1471,
     "status": "ok",
     "timestamp": 1608736984650,
     "user": {
      "displayName": "2020 18007",
      "photoUrl": "",
      "userId": "03061026696140247928"
     },
     "user_tz": -330
    },
    "id": "zVN0siAOkwYI"
   },
   "outputs": [],
   "source": [
    "import os\n",
    "os.environ['KAGGLE_CONFIG_DIR'] = \"/content/gdrive/My Drive/Kaggle\""
   ]
  },
  {
   "cell_type": "code",
   "execution_count": 9,
   "metadata": {
    "colab": {
     "base_uri": "https://localhost:8080/"
    },
    "executionInfo": {
     "elapsed": 1324,
     "status": "ok",
     "timestamp": 1608736987422,
     "user": {
      "displayName": "2020 18007",
      "photoUrl": "",
      "userId": "03061026696140247928"
     },
     "user_tz": -330
    },
    "id": "AxQnQ5eUlSPC",
    "outputId": "9a0ba548-f594-4e9d-fae3-d8b5898b63ae"
   },
   "outputs": [
    {
     "name": "stdout",
     "output_type": "stream",
     "text": [
      "/content/gdrive/My Drive/Kaggle\n"
     ]
    }
   ],
   "source": [
    "#changing the working directory\n",
    "%cd /content/gdrive/My Drive/Kaggle"
   ]
  },
  {
   "cell_type": "code",
   "execution_count": 10,
   "metadata": {
    "colab": {
     "base_uri": "https://localhost:8080/",
     "height": 35
    },
    "executionInfo": {
     "elapsed": 1428,
     "status": "ok",
     "timestamp": 1608736990313,
     "user": {
      "displayName": "2020 18007",
      "photoUrl": "",
      "userId": "03061026696140247928"
     },
     "user_tz": -330
    },
    "id": "3r_k9oZxlXZC",
    "outputId": "2229a114-a9df-47fa-a207-4d00e76e93e3"
   },
   "outputs": [
    {
     "data": {
      "application/vnd.google.colaboratory.intrinsic+json": {
       "type": "string"
      },
      "text/plain": [
       "'/content/gdrive/My Drive/Kaggle'"
      ]
     },
     "execution_count": 10,
     "metadata": {
      "tags": []
     },
     "output_type": "execute_result"
    }
   ],
   "source": [
    "pwd"
   ]
  },
  {
   "cell_type": "markdown",
   "metadata": {},
   "source": [
    "### Importing the necessary libraries"
   ]
  },
  {
   "cell_type": "code",
   "execution_count": 26,
   "metadata": {
    "executionInfo": {
     "elapsed": 1306,
     "status": "ok",
     "timestamp": 1608739017639,
     "user": {
      "displayName": "2020 18007",
      "photoUrl": "",
      "userId": "03061026696140247928"
     },
     "user_tz": -330
    },
    "id": "r8f7Ra4wmgM2"
   },
   "outputs": [],
   "source": [
    "import tensorflow as tf\n",
    "from tensorflow.keras.models import Sequential\n",
    "from tensorflow.keras.layers import Dense, Flatten, Conv2D, MaxPooling2D\n",
    "from tensorflow.keras.callbacks import EarlyStopping, ReduceLROnPlateau, ModelCheckpoint\n",
    "from tensorflow.keras import optimizers\n",
    "import numpy as np\n",
    "import cv2\n",
    "from google.colab.patches import cv2_imshow\n",
    "from sklearn.model_selection import train_test_split\n",
    "from sklearn.metrics import confusion_matrix\n",
    "import random\n",
    "import pickle"
   ]
  },
  {
   "cell_type": "markdown",
   "metadata": {},
   "source": [
    "### Initialising the TPU cores provided by  Colab"
   ]
  },
  {
   "cell_type": "code",
   "execution_count": null,
   "metadata": {
    "id": "TQCD0BoNUAH-"
   },
   "outputs": [],
   "source": [
    "%tensorflow_version 2.x\n",
    "print(\"Tensorflow version \" + tf.__version__)\n",
    "\n",
    "try:\n",
    "    tpu = tf.distribute.cluster_resolver.TPUClusterResolver()  # TPU detection\n",
    "    print('Running on TPU ', tpu.cluster_spec().as_dict()['worker'])\n",
    "except ValueError:\n",
    "    raise BaseException('ERROR: Not connected to a TPU runtime; please see the previous cell in this notebook for instructions!')\n",
    "\n",
    "tf.config.experimental_connect_to_cluster(tpu)\n",
    "tf.tpu.experimental.initialize_tpu_system(tpu)\n",
    "tpu_strategy = tf.distribute.experimental.TPUStrategy(tpu)"
   ]
  },
  {
   "cell_type": "markdown",
   "metadata": {},
   "source": [
    "### Defining the path of image files to be trained and tested."
   ]
  },
  {
   "cell_type": "code",
   "execution_count": 11,
   "metadata": {
    "executionInfo": {
     "elapsed": 1428,
     "status": "ok",
     "timestamp": 1608736996705,
     "user": {
      "displayName": "2020 18007",
      "photoUrl": "",
      "userId": "03061026696140247928"
     },
     "user_tz": -330
    },
    "id": "fxtDaBXTXckF"
   },
   "outputs": [],
   "source": [
    "DATADIR = \"/content/gdrive/My Drive/Kaggle/gaussian_filtered_images/gaussian_filtered_images\"\n",
    "CATEGORIES = ['No_DR','Mild','Moderate','Severe','Proliferate_DR'] # five categories of Diabetic Retinopathy we are detecting"
   ]
  },
  {
   "cell_type": "markdown",
   "metadata": {},
   "source": [
    "### Converting the image files to array and assigning them categories"
   ]
  },
  {
   "cell_type": "code",
   "execution_count": 12,
   "metadata": {
    "executionInfo": {
     "elapsed": 873203,
     "status": "ok",
     "timestamp": 1608737872871,
     "user": {
      "displayName": "2020 18007",
      "photoUrl": "",
      "userId": "03061026696140247928"
     },
     "user_tz": -330
    },
    "id": "JA5tglO0VNzq"
   },
   "outputs": [],
   "source": [
    "with tpu_strategy.scope():\n",
    "    dataset = []\n",
    "    for category in CATEGORIES: #looping through the five folders in the path and joing the folder name in the path\n",
    "        path = os.path.join(DATADIR,category)\n",
    "        class_category = CATEGORIES.index(category)\n",
    "        for im in os.listdir(path): # looping through all the images in the above joined path.\n",
    "            try:\n",
    "                img_array = cv2.imread(os.path.join(path,im)) #converting image to array\n",
    "                img_res = cv2.resize(img_array,(224,224)) # resizing the array to 224x224\n",
    "                dataset.append([img_res, class_category]) # appending the array and category to the list\n",
    "            except Exception as e:\n",
    "                pass"
   ]
  },
  {
   "cell_type": "code",
   "execution_count": 13,
   "metadata": {
    "executionInfo": {
     "elapsed": 1550,
     "status": "ok",
     "timestamp": 1608738012366,
     "user": {
      "displayName": "2020 18007",
      "photoUrl": "",
      "userId": "03061026696140247928"
     },
     "user_tz": -330
    },
    "id": "HWr-B8afvvqi"
   },
   "outputs": [],
   "source": [
    "X=[]\n",
    "y=[]"
   ]
  },
  {
   "cell_type": "code",
   "execution_count": 14,
   "metadata": {
    "executionInfo": {
     "elapsed": 1396,
     "status": "ok",
     "timestamp": 1608738019730,
     "user": {
      "displayName": "2020 18007",
      "photoUrl": "",
      "userId": "03061026696140247928"
     },
     "user_tz": -330
    },
    "id": "FWPijSOSrm25"
   },
   "outputs": [],
   "source": [
    "# Separating the array and the categories as X and y respectively\n",
    "for features, label in dataset:\n",
    "    X.append(features)\n",
    "    y.append(label)"
   ]
  },
  {
   "cell_type": "code",
   "execution_count": 15,
   "metadata": {
    "executionInfo": {
     "elapsed": 1218,
     "status": "ok",
     "timestamp": 1608738022388,
     "user": {
      "displayName": "2020 18007",
      "photoUrl": "",
      "userId": "03061026696140247928"
     },
     "user_tz": -330
    },
    "id": "iR9q9NC7-JWn"
   },
   "outputs": [],
   "source": [
    "# Splitting the data into train and test datasets\n",
    "X_train, X_test, y_train, y_test = train_test_split(X, y, test_size=0.15, random_state=42)"
   ]
  },
  {
   "cell_type": "code",
   "execution_count": 16,
   "metadata": {
    "executionInfo": {
     "elapsed": 1427,
     "status": "ok",
     "timestamp": 1608738025803,
     "user": {
      "displayName": "2020 18007",
      "photoUrl": "",
      "userId": "03061026696140247928"
     },
     "user_tz": -330
    },
    "id": "wZ0Nuxy6wX6i"
   },
   "outputs": [],
   "source": [
    "# converting the dataset into numpy array\n",
    "X_train = np.array(X_train).reshape(-1,224,224,3)\n",
    "X_test = np.array(X_test).reshape(-1,224,224,3)\n",
    "y_train=np.array(y_train).reshape(-1,1)"
   ]
  },
  {
   "cell_type": "markdown",
   "metadata": {},
   "source": [
    "### Defining the architecture of the CNN model"
   ]
  },
  {
   "cell_type": "code",
   "execution_count": 60,
   "metadata": {
    "executionInfo": {
     "elapsed": 1277,
     "status": "ok",
     "timestamp": 1608743063833,
     "user": {
      "displayName": "2020 18007",
      "photoUrl": "",
      "userId": "03061026696140247928"
     },
     "user_tz": -330
    },
    "id": "2iPKWU2x-dPS"
   },
   "outputs": [],
   "source": [
    "def create_model():\n",
    "    model = Sequential()\n",
    "# five layers of Conv2D and MaxPooling2D with different number of channels in each layer\n",
    "    model.add(Conv2D(16, (3,3), strides=(1,1), activation=\"relu\", input_shape = X_train.shape[1:]))\n",
    "    model.add(MaxPooling2D(pool_size=(2,2)))\n",
    "\n",
    "    model.add(Conv2D(32, (3,3), strides=(1,1), activation=\"relu\"))\n",
    "    model.add(MaxPooling2D(pool_size=(2,2)))\n",
    "\n",
    "    model.add(Conv2D(64, (3,3), strides=(1,1), activation=\"relu\"))\n",
    "    model.add(MaxPooling2D(pool_size=(2,2)))\n",
    "\n",
    "    model.add(Conv2D(64, (3,3), strides=(1,1), activation=\"relu\"))\n",
    "    model.add(MaxPooling2D(pool_size=(2,2)))\n",
    "\n",
    "    model.add(Conv2D(64, (3,3), strides=(1,1), activation=\"relu\"))\n",
    "    model.add(MaxPooling2D(pool_size=(2,2)))\n",
    "    \n",
    "# Two dense layers and softmax activation to get probabilities value for our five different categories for each input array.\n",
    "    model.add(Flatten())\n",
    "    model.add(Dense(128, activation = 'relu'))\n",
    "    model.add(Dense(5, activation = 'softmax'))\n",
    "# Using adam optimiser and chasing the accuract metric in the compile phase of the model.\n",
    "# Because we have five categories hence using categorical_crossentropy as loss function.\n",
    "    model.compile(optimizer='adam', \n",
    "              loss='sparse_categorical_crossentropy',\n",
    "              metrics=['accuracy'])\n",
    "    return model"
   ]
  },
  {
   "cell_type": "code",
   "execution_count": 61,
   "metadata": {
    "colab": {
     "base_uri": "https://localhost:8080/"
    },
    "executionInfo": {
     "elapsed": 1244,
     "status": "ok",
     "timestamp": 1608743068214,
     "user": {
      "displayName": "2020 18007",
      "photoUrl": "",
      "userId": "03061026696140247928"
     },
     "user_tz": -330
    },
    "id": "nZym6qPlG8Sz",
    "outputId": "78013538-4f41-45e7-f55c-e372c45a2074"
   },
   "outputs": [
    {
     "name": "stdout",
     "output_type": "stream",
     "text": [
      "Model: \"sequential_16\"\n",
      "_________________________________________________________________\n",
      "Layer (type)                 Output Shape              Param #   \n",
      "=================================================================\n",
      "conv2d_80 (Conv2D)           (None, 222, 222, 16)      448       \n",
      "_________________________________________________________________\n",
      "max_pooling2d_80 (MaxPooling (None, 111, 111, 16)      0         \n",
      "_________________________________________________________________\n",
      "conv2d_81 (Conv2D)           (None, 109, 109, 32)      4640      \n",
      "_________________________________________________________________\n",
      "max_pooling2d_81 (MaxPooling (None, 54, 54, 32)        0         \n",
      "_________________________________________________________________\n",
      "conv2d_82 (Conv2D)           (None, 52, 52, 64)        18496     \n",
      "_________________________________________________________________\n",
      "max_pooling2d_82 (MaxPooling (None, 26, 26, 64)        0         \n",
      "_________________________________________________________________\n",
      "conv2d_83 (Conv2D)           (None, 24, 24, 64)        36928     \n",
      "_________________________________________________________________\n",
      "max_pooling2d_83 (MaxPooling (None, 12, 12, 64)        0         \n",
      "_________________________________________________________________\n",
      "conv2d_84 (Conv2D)           (None, 10, 10, 64)        36928     \n",
      "_________________________________________________________________\n",
      "max_pooling2d_84 (MaxPooling (None, 5, 5, 64)          0         \n",
      "_________________________________________________________________\n",
      "flatten_16 (Flatten)         (None, 1600)              0         \n",
      "_________________________________________________________________\n",
      "dense_32 (Dense)             (None, 128)               204928    \n",
      "_________________________________________________________________\n",
      "dense_33 (Dense)             (None, 5)                 645       \n",
      "=================================================================\n",
      "Total params: 303,013\n",
      "Trainable params: 303,013\n",
      "Non-trainable params: 0\n",
      "_________________________________________________________________\n"
     ]
    }
   ],
   "source": [
    "with tpu_strategy.scope():\n",
    "    model = create_model()\n",
    "model.summary()"
   ]
  },
  {
   "cell_type": "markdown",
   "metadata": {},
   "source": [
    "### Fitting the model."
   ]
  },
  {
   "cell_type": "code",
   "execution_count": 62,
   "metadata": {
    "colab": {
     "base_uri": "https://localhost:8080/"
    },
    "executionInfo": {
     "elapsed": 65937,
     "status": "ok",
     "timestamp": 1608743136613,
     "user": {
      "displayName": "2020 18007",
      "photoUrl": "",
      "userId": "03061026696140247928"
     },
     "user_tz": -330
    },
    "id": "_5Lp79ZED4Ag",
    "outputId": "b5ed3239-87f3-4e48-cb62-5549cb3e27a0"
   },
   "outputs": [
    {
     "name": "stdout",
     "output_type": "stream",
     "text": [
      "Epoch 1/10\n",
      "156/156 [==============================] - 16s 62ms/step - loss: 2.5709 - accuracy: 0.5788 - val_loss: 0.7860 - val_accuracy: 0.7143\n",
      "Epoch 2/10\n",
      "156/156 [==============================] - 5s 30ms/step - loss: 0.7710 - accuracy: 0.7277 - val_loss: 0.7510 - val_accuracy: 0.7159\n",
      "Epoch 3/10\n",
      "156/156 [==============================] - 5s 31ms/step - loss: 0.7379 - accuracy: 0.7409 - val_loss: 0.7671 - val_accuracy: 0.7207\n",
      "Epoch 4/10\n",
      "156/156 [==============================] - 5s 30ms/step - loss: 0.7172 - accuracy: 0.7632 - val_loss: 0.7335 - val_accuracy: 0.7368\n",
      "Epoch 5/10\n",
      "156/156 [==============================] - 5s 31ms/step - loss: 0.6605 - accuracy: 0.7522 - val_loss: 0.7230 - val_accuracy: 0.7319\n",
      "Epoch 6/10\n",
      "156/156 [==============================] - 5s 30ms/step - loss: 0.6120 - accuracy: 0.7793 - val_loss: 0.6943 - val_accuracy: 0.7448\n",
      "Epoch 7/10\n",
      "156/156 [==============================] - 5s 30ms/step - loss: 0.5819 - accuracy: 0.7792 - val_loss: 0.7887 - val_accuracy: 0.7319\n",
      "Epoch 8/10\n",
      "156/156 [==============================] - 5s 34ms/step - loss: 0.5490 - accuracy: 0.8031 - val_loss: 0.8023 - val_accuracy: 0.7287\n",
      "Epoch 9/10\n",
      "156/156 [==============================] - 5s 31ms/step - loss: 0.5000 - accuracy: 0.8261 - val_loss: 0.8646 - val_accuracy: 0.7287\n",
      "Epoch 10/10\n",
      "156/156 [==============================] - 5s 31ms/step - loss: 0.4291 - accuracy: 0.8365 - val_loss: 0.9192 - val_accuracy: 0.7352\n"
     ]
    }
   ],
   "source": [
    "with tpu_strategy.scope():\n",
    "    model.fit(X_train, y_train, batch_size=16, epochs=10, validation_split=0.2)"
   ]
  },
  {
   "cell_type": "markdown",
   "metadata": {},
   "source": [
    "### Extracting the predicted category result on the test dataset"
   ]
  },
  {
   "cell_type": "code",
   "execution_count": 63,
   "metadata": {
    "executionInfo": {
     "elapsed": 9293,
     "status": "ok",
     "timestamp": 1608743159839,
     "user": {
      "displayName": "2020 18007",
      "photoUrl": "",
      "userId": "03061026696140247928"
     },
     "user_tz": -330
    },
    "id": "X0cHQKB2yusr"
   },
   "outputs": [],
   "source": [
    "Y_predict=[]\n",
    "prediction = model.predict(X_test) # predicting on the test data\n",
    "for pr in prediction:\n",
    "    Y_predict.append(np.argmax(pr)) # getting the index value of the max probability value of the output array"
   ]
  },
  {
   "cell_type": "code",
   "execution_count": 65,
   "metadata": {
    "colab": {
     "base_uri": "https://localhost:8080/"
    },
    "executionInfo": {
     "elapsed": 1380,
     "status": "ok",
     "timestamp": 1608743198228,
     "user": {
      "displayName": "2020 18007",
      "photoUrl": "",
      "userId": "03061026696140247928"
     },
     "user_tz": -330
    },
    "id": "k-9RFs4V4fd8",
    "outputId": "4cfe2f0f-5aa8-41b6-fd1f-0eaa4185cb77"
   },
   "outputs": [
    {
     "data": {
      "text/plain": [
       "[2, 0, 0, 0, 0, 0, 4, 1, 0, 2]"
      ]
     },
     "execution_count": 65,
     "metadata": {
      "tags": []
     },
     "output_type": "execute_result"
    }
   ],
   "source": [
    "Y_predict[:10]"
   ]
  },
  {
   "cell_type": "code",
   "execution_count": 66,
   "metadata": {
    "executionInfo": {
     "elapsed": 1304,
     "status": "ok",
     "timestamp": 1608743209106,
     "user": {
      "displayName": "2020 18007",
      "photoUrl": "",
      "userId": "03061026696140247928"
     },
     "user_tz": -330
    },
    "id": "BxoWLnkn18-p"
   },
   "outputs": [],
   "source": [
    "conf_matrix = confusion_matrix(y_test, Y_predict) # creating confusion matrix of predicted values and actual test values."
   ]
  },
  {
   "cell_type": "code",
   "execution_count": 67,
   "metadata": {
    "colab": {
     "base_uri": "https://localhost:8080/"
    },
    "executionInfo": {
     "elapsed": 1203,
     "status": "ok",
     "timestamp": 1608743212728,
     "user": {
      "displayName": "2020 18007",
      "photoUrl": "",
      "userId": "03061026696140247928"
     },
     "user_tz": -330
    },
    "id": "uatHnsqi4QxX",
    "outputId": "667e93a2-0769-4057-8c12-3706866cdde4"
   },
   "outputs": [
    {
     "data": {
      "text/plain": [
       "420"
      ]
     },
     "execution_count": 67,
     "metadata": {
      "tags": []
     },
     "output_type": "execute_result"
    }
   ],
   "source": [
    "np.trace(conf_matrix) # trace of a matrix gives the sum of diagonal elements ehcih are the correctly predicted values by the\n",
    "                      # model on the test dataset"
   ]
  },
  {
   "cell_type": "code",
   "execution_count": 68,
   "metadata": {
    "colab": {
     "base_uri": "https://localhost:8080/"
    },
    "executionInfo": {
     "elapsed": 1633,
     "status": "ok",
     "timestamp": 1608743217110,
     "user": {
      "displayName": "2020 18007",
      "photoUrl": "",
      "userId": "03061026696140247928"
     },
     "user_tz": -330
    },
    "id": "4CHeNs8G5zz9",
    "outputId": "79edcc56-7839-4248-ebcf-210d96e7b156"
   },
   "outputs": [
    {
     "data": {
      "text/plain": [
       "array([[273,   4,   1,   0,   0],\n",
       "       [  1,  19,  26,   0,   3],\n",
       "       [ 13,  14, 117,   3,  10],\n",
       "       [  1,   0,  15,   5,   2],\n",
       "       [  5,   2,  27,   3,   6]])"
      ]
     },
     "execution_count": 68,
     "metadata": {
      "tags": []
     },
     "output_type": "execute_result"
    }
   ],
   "source": [
    "conf_matrix"
   ]
  },
  {
   "cell_type": "code",
   "execution_count": 69,
   "metadata": {
    "colab": {
     "base_uri": "https://localhost:8080/"
    },
    "executionInfo": {
     "elapsed": 1428,
     "status": "ok",
     "timestamp": 1608743225430,
     "user": {
      "displayName": "2020 18007",
      "photoUrl": "",
      "userId": "03061026696140247928"
     },
     "user_tz": -330
    },
    "id": "NkiexzXv4Q2R",
    "outputId": "b57766c0-1f2b-426c-dbfe-e83d165a2fc7"
   },
   "outputs": [
    {
     "data": {
      "text/plain": [
       "550"
      ]
     },
     "execution_count": 69,
     "metadata": {
      "tags": []
     },
     "output_type": "execute_result"
    }
   ],
   "source": [
    "np.sum(conf_matrix)"
   ]
  },
  {
   "cell_type": "code",
   "execution_count": 70,
   "metadata": {
    "colab": {
     "base_uri": "https://localhost:8080/"
    },
    "executionInfo": {
     "elapsed": 1438,
     "status": "ok",
     "timestamp": 1608743233750,
     "user": {
      "displayName": "2020 18007",
      "photoUrl": "",
      "userId": "03061026696140247928"
     },
     "user_tz": -330
    },
    "id": "4WaU97u34Q6h",
    "outputId": "ae7306dd-3eb0-4a0e-886c-51d4aef36057"
   },
   "outputs": [
    {
     "data": {
      "text/plain": [
       "0.7636363636363637"
      ]
     },
     "execution_count": 70,
     "metadata": {
      "tags": []
     },
     "output_type": "execute_result"
    }
   ],
   "source": [
    "420/550 #out of 550 test data, the model predicted 420 correctly."
   ]
  },
  {
   "cell_type": "markdown",
   "metadata": {},
   "source": [
    "### Dumping the dataset as a pickle file for later use"
   ]
  },
  {
   "cell_type": "code",
   "execution_count": 71,
   "metadata": {
    "executionInfo": {
     "elapsed": 11562,
     "status": "ok",
     "timestamp": 1608743249824,
     "user": {
      "displayName": "2020 18007",
      "photoUrl": "",
      "userId": "03061026696140247928"
     },
     "user_tz": -330
    },
    "id": "ftLsxtJFpBxe"
   },
   "outputs": [],
   "source": [
    "dataset_in = open('dataset.pickle', 'wb')\n",
    "pickle.dump(dataset, dataset_in)\n",
    "dataset_in.close()"
   ]
  },
  {
   "cell_type": "code",
   "execution_count": null,
   "metadata": {
    "id": "dpVj2P8nKaao"
   },
   "outputs": [],
   "source": [
    "input_X = open('dataset.pickle','rb')\n",
    "dataset = pickle.load(input_X)"
   ]
  },
  {
   "cell_type": "code",
   "execution_count": 72,
   "metadata": {
    "executionInfo": {
     "elapsed": 1454,
     "status": "ok",
     "timestamp": 1608743266439,
     "user": {
      "displayName": "2020 18007",
      "photoUrl": "",
      "userId": "03061026696140247928"
     },
     "user_tz": -330
    },
    "id": "Yck5cC7EsUSn"
   },
   "outputs": [],
   "source": [
    "model.save('diab_retin.h5') # saving the model to use it in the frontend application"
   ]
  },
  {
   "cell_type": "code",
   "execution_count": null,
   "metadata": {
    "id": "XbPf8hscclzI"
   },
   "outputs": [],
   "source": []
  }
 ],
 "metadata": {
  "accelerator": "TPU",
  "colab": {
   "authorship_tag": "ABX9TyOKVHhO0p11MCiiKGHkfqq8",
   "collapsed_sections": [],
   "name": "Diabetic_Retinopathy.ipynb",
   "provenance": []
  },
  "kernelspec": {
   "display_name": "Python 3",
   "language": "python",
   "name": "python3"
  },
  "language_info": {
   "codemirror_mode": {
    "name": "ipython",
    "version": 3
   },
   "file_extension": ".py",
   "mimetype": "text/x-python",
   "name": "python",
   "nbconvert_exporter": "python",
   "pygments_lexer": "ipython3",
   "version": "3.8.6"
  }
 },
 "nbformat": 4,
 "nbformat_minor": 1
}
